{
 "cells": [
  {
   "cell_type": "code",
   "execution_count": 14,
   "id": "fc94a84d",
   "metadata": {},
   "outputs": [
    {
     "name": "stdout",
     "output_type": "stream",
     "text": [
      "      EASTING  NORTHING  NGVD29  NAVD88  RASTERVALU  Class    Error\n",
      "0      820527    405228    7.45   5.940     6.22582      1 -0.28582\n",
      "1      811565    456468   11.45   9.920    10.99260      4 -1.07260\n",
      "2      804313    424758    7.18   5.627     5.36126      2  0.26574\n",
      "3      820604    400370    7.34   5.820     6.06282      2 -0.24282\n",
      "4      810268    451514   10.68   9.160    10.07390      4 -0.91390\n",
      "...       ...       ...     ...     ...         ...    ...      ...\n",
      "1230   943111    593983    5.52   3.940     3.56720      1  0.37280\n",
      "1231   941822    590775    5.01   3.440     3.16237      1  0.27763\n",
      "1232   939304    589040    7.79   6.210     6.52021      1 -0.31021\n",
      "1233   944796    592214    4.25   2.670     2.01949      1  0.65051\n",
      "1234   942418    594342    4.57   2.990     3.53581      1 -0.54581\n",
      "\n",
      "[1235 rows x 7 columns]\n"
     ]
    }
   ],
   "source": [
    "import pandas as pd\n",
    "import seaborn as sns\n",
    "import matplotlib.pyplot as plt\n",
    "\n",
    "# Read data from Excel file into a DataFrame\n",
    "excel_file_path =(r\"F:\\Miami\\RefinedVC\\class400.csv\")\n",
    "df = pd.read_csv(excel_file_path)\n",
    "\n",
    "# View the DataFrame\n",
    "print(df)"
   ]
  },
  {
   "cell_type": "code",
   "execution_count": 15,
   "id": "dd1e584b",
   "metadata": {},
   "outputs": [
    {
     "data": {
      "text/html": [
       "<div>\n",
       "<style scoped>\n",
       "    .dataframe tbody tr th:only-of-type {\n",
       "        vertical-align: middle;\n",
       "    }\n",
       "\n",
       "    .dataframe tbody tr th {\n",
       "        vertical-align: top;\n",
       "    }\n",
       "\n",
       "    .dataframe thead th {\n",
       "        text-align: right;\n",
       "    }\n",
       "</style>\n",
       "<table border=\"1\" class=\"dataframe\">\n",
       "  <thead>\n",
       "    <tr style=\"text-align: right;\">\n",
       "      <th></th>\n",
       "      <th>EASTING</th>\n",
       "      <th>NORTHING</th>\n",
       "      <th>NGVD29</th>\n",
       "      <th>NAVD88</th>\n",
       "      <th>RASTERVALU</th>\n",
       "      <th>Class</th>\n",
       "      <th>Error</th>\n",
       "    </tr>\n",
       "  </thead>\n",
       "  <tbody>\n",
       "    <tr>\n",
       "      <th>0</th>\n",
       "      <td>820527</td>\n",
       "      <td>405228</td>\n",
       "      <td>7.45</td>\n",
       "      <td>5.940</td>\n",
       "      <td>6.22582</td>\n",
       "      <td>1</td>\n",
       "      <td>-0.28582</td>\n",
       "    </tr>\n",
       "    <tr>\n",
       "      <th>1</th>\n",
       "      <td>811565</td>\n",
       "      <td>456468</td>\n",
       "      <td>11.45</td>\n",
       "      <td>9.920</td>\n",
       "      <td>10.99260</td>\n",
       "      <td>4</td>\n",
       "      <td>-1.07260</td>\n",
       "    </tr>\n",
       "    <tr>\n",
       "      <th>2</th>\n",
       "      <td>804313</td>\n",
       "      <td>424758</td>\n",
       "      <td>7.18</td>\n",
       "      <td>5.627</td>\n",
       "      <td>5.36126</td>\n",
       "      <td>2</td>\n",
       "      <td>0.26574</td>\n",
       "    </tr>\n",
       "    <tr>\n",
       "      <th>3</th>\n",
       "      <td>820604</td>\n",
       "      <td>400370</td>\n",
       "      <td>7.34</td>\n",
       "      <td>5.820</td>\n",
       "      <td>6.06282</td>\n",
       "      <td>2</td>\n",
       "      <td>-0.24282</td>\n",
       "    </tr>\n",
       "    <tr>\n",
       "      <th>4</th>\n",
       "      <td>810268</td>\n",
       "      <td>451514</td>\n",
       "      <td>10.68</td>\n",
       "      <td>9.160</td>\n",
       "      <td>10.07390</td>\n",
       "      <td>4</td>\n",
       "      <td>-0.91390</td>\n",
       "    </tr>\n",
       "  </tbody>\n",
       "</table>\n",
       "</div>"
      ],
      "text/plain": [
       "   EASTING  NORTHING  NGVD29  NAVD88  RASTERVALU  Class    Error\n",
       "0   820527    405228    7.45   5.940     6.22582      1 -0.28582\n",
       "1   811565    456468   11.45   9.920    10.99260      4 -1.07260\n",
       "2   804313    424758    7.18   5.627     5.36126      2  0.26574\n",
       "3   820604    400370    7.34   5.820     6.06282      2 -0.24282\n",
       "4   810268    451514   10.68   9.160    10.07390      4 -0.91390"
      ]
     },
     "execution_count": 15,
     "metadata": {},
     "output_type": "execute_result"
    }
   ],
   "source": [
    "df.head()\n"
   ]
  },
  {
   "cell_type": "code",
   "execution_count": 16,
   "id": "c82ab65d",
   "metadata": {},
   "outputs": [
    {
     "data": {
      "text/html": [
       "<div>\n",
       "<style scoped>\n",
       "    .dataframe tbody tr th:only-of-type {\n",
       "        vertical-align: middle;\n",
       "    }\n",
       "\n",
       "    .dataframe tbody tr th {\n",
       "        vertical-align: top;\n",
       "    }\n",
       "\n",
       "    .dataframe thead th {\n",
       "        text-align: right;\n",
       "    }\n",
       "</style>\n",
       "<table border=\"1\" class=\"dataframe\">\n",
       "  <thead>\n",
       "    <tr style=\"text-align: right;\">\n",
       "      <th></th>\n",
       "      <th>EASTING</th>\n",
       "      <th>NORTHING</th>\n",
       "      <th>NGVD29</th>\n",
       "      <th>NAVD88</th>\n",
       "      <th>RASTERVALU</th>\n",
       "      <th>Class</th>\n",
       "      <th>Error</th>\n",
       "    </tr>\n",
       "  </thead>\n",
       "  <tbody>\n",
       "    <tr>\n",
       "      <th>1230</th>\n",
       "      <td>943111</td>\n",
       "      <td>593983</td>\n",
       "      <td>5.52</td>\n",
       "      <td>3.94</td>\n",
       "      <td>3.56720</td>\n",
       "      <td>1</td>\n",
       "      <td>0.37280</td>\n",
       "    </tr>\n",
       "    <tr>\n",
       "      <th>1231</th>\n",
       "      <td>941822</td>\n",
       "      <td>590775</td>\n",
       "      <td>5.01</td>\n",
       "      <td>3.44</td>\n",
       "      <td>3.16237</td>\n",
       "      <td>1</td>\n",
       "      <td>0.27763</td>\n",
       "    </tr>\n",
       "    <tr>\n",
       "      <th>1232</th>\n",
       "      <td>939304</td>\n",
       "      <td>589040</td>\n",
       "      <td>7.79</td>\n",
       "      <td>6.21</td>\n",
       "      <td>6.52021</td>\n",
       "      <td>1</td>\n",
       "      <td>-0.31021</td>\n",
       "    </tr>\n",
       "    <tr>\n",
       "      <th>1233</th>\n",
       "      <td>944796</td>\n",
       "      <td>592214</td>\n",
       "      <td>4.25</td>\n",
       "      <td>2.67</td>\n",
       "      <td>2.01949</td>\n",
       "      <td>1</td>\n",
       "      <td>0.65051</td>\n",
       "    </tr>\n",
       "    <tr>\n",
       "      <th>1234</th>\n",
       "      <td>942418</td>\n",
       "      <td>594342</td>\n",
       "      <td>4.57</td>\n",
       "      <td>2.99</td>\n",
       "      <td>3.53581</td>\n",
       "      <td>1</td>\n",
       "      <td>-0.54581</td>\n",
       "    </tr>\n",
       "  </tbody>\n",
       "</table>\n",
       "</div>"
      ],
      "text/plain": [
       "      EASTING  NORTHING  NGVD29  NAVD88  RASTERVALU  Class    Error\n",
       "1230   943111    593983    5.52    3.94     3.56720      1  0.37280\n",
       "1231   941822    590775    5.01    3.44     3.16237      1  0.27763\n",
       "1232   939304    589040    7.79    6.21     6.52021      1 -0.31021\n",
       "1233   944796    592214    4.25    2.67     2.01949      1  0.65051\n",
       "1234   942418    594342    4.57    2.99     3.53581      1 -0.54581"
      ]
     },
     "execution_count": 16,
     "metadata": {},
     "output_type": "execute_result"
    }
   ],
   "source": [
    "df.tail()"
   ]
  },
  {
   "cell_type": "code",
   "execution_count": 17,
   "id": "8680d2b5",
   "metadata": {},
   "outputs": [
    {
     "name": "stderr",
     "output_type": "stream",
     "text": [
      "C:\\Users\\mthapachhetr2023\\AppData\\Local\\Programs\\Python\\Python311\\Lib\\site-packages\\seaborn\\_oldcore.py:1498: FutureWarning: is_categorical_dtype is deprecated and will be removed in a future version. Use isinstance(dtype, CategoricalDtype) instead\n",
      "  if pd.api.types.is_categorical_dtype(vector):\n",
      "C:\\Users\\mthapachhetr2023\\AppData\\Local\\Programs\\Python\\Python311\\Lib\\site-packages\\seaborn\\_oldcore.py:1498: FutureWarning: is_categorical_dtype is deprecated and will be removed in a future version. Use isinstance(dtype, CategoricalDtype) instead\n",
      "  if pd.api.types.is_categorical_dtype(vector):\n",
      "C:\\Users\\mthapachhetr2023\\AppData\\Local\\Programs\\Python\\Python311\\Lib\\site-packages\\seaborn\\_oldcore.py:1498: FutureWarning: is_categorical_dtype is deprecated and will be removed in a future version. Use isinstance(dtype, CategoricalDtype) instead\n",
      "  if pd.api.types.is_categorical_dtype(vector):\n"
     ]
    },
    {
     "data": {
      "text/plain": [
       "[Text(0.5, 0, 'Land Use Class'), Text(0, 0.5, 'Error Values')]"
      ]
     },
     "execution_count": 17,
     "metadata": {},
     "output_type": "execute_result"
    },
    {
     "data": {
      "image/png": "[encoded data removed]",
      "text/plain": [
       "<Figure size 640x480 with 1 Axes>"
      ]
     },
     "metadata": {},
     "output_type": "display_data"
    }
   ],
   "source": [
    "# Create a boxplot by group\n",
    "sns.boxplot(x='Class', y='Error', data=df).set(\n",
    "    xlabel='Land Use Class',\n",
    "    ylabel='Error Values'\n",
    ")\n"
   ]
  },
  {
   "cell_type": "code",
   "execution_count": null,
   "id": "ed380a1e",
   "metadata": {},
   "outputs": [],
   "source": []
  }
 ],
 "metadata": {
  "kernelspec": {
   "display_name": "Python 3 (ipykernel)",
   "language": "python",
   "name": "python3"
  },
  "language_info": {
   "codemirror_mode": {
    "name": "ipython",
    "version": 3
   },
   "file_extension": ".py",
   "mimetype": "text/x-python",
   "name": "python",
   "nbconvert_exporter": "python",
   "pygments_lexer": "ipython3",
   "version": "3.11.5"
  }
 },
 "nbformat": 4,
 "nbformat_minor": 5
}
